{
 "cells": [
  {
   "metadata": {},
   "cell_type": "markdown",
   "source": "Import needed library",
   "id": "2fe8f2ab05fbbda"
  },
  {
   "metadata": {},
   "cell_type": "code",
   "source": [
    "from github import Github\n",
    "import csv\n",
    "import datetime"
   ],
   "id": "7b632f3e7028770d",
   "outputs": [],
   "execution_count": null
  },
  {
   "metadata": {},
   "cell_type": "markdown",
   "source": "Initialize things",
   "id": "c5a68e7aa126fe2f"
  },
  {
   "metadata": {},
   "cell_type": "code",
   "source": [
    "# Get access to GitHub\n",
    "g = Github(\"'''Personal Access Token'''\")\n",
    "\n",
    "# Determine the destination file \n",
    "csv_file = 'raw_data.csv'\n",
    "\n",
    "# Detect the time range\n",
    "since_date = datetime.datetime(2023, 1, 1)\n",
    "until_date = datetime.datetime(2024, 1, 1) "
   ],
   "id": "610ee7e8e9e73479",
   "outputs": [],
   "execution_count": null
  },
  {
   "metadata": {},
   "cell_type": "markdown",
   "source": "Get data",
   "id": "bfa1feabf2bea444"
  },
  {
   "metadata": {},
   "cell_type": "code",
   "source": [
    "# Get the repository\n",
    "repo = g.get_repo(\"dmlc/xgboost\")\n",
    "# Open the file in write mode\n",
    "with open(csv_file, mode='w', newline='', encoding='utf-8-sig') as file:\n",
    "    writer = csv.writer(file)\n",
    "    writer.writerow(['Commit ID', 'Commit message', 'Contributor', 'Commit date', 'Files Changed', 'Author', 'Author Email', 'Passed all test'])\n",
    "    # Get all commits in time range\n",
    "    commits = repo.get_commits(since=since_date, until=until_date)\n",
    "    # and then fill the data in proper position.\n",
    "    for commit in commits:\n",
    "        commit_id = commit.sha\n",
    "        commit_message = commit.commit.message\n",
    "        contributor = commit.author.login if commit.author else 'N/A'\n",
    "        commit_date = commit.commit.author.date.strftime(\"%Y-%m-%d\")\n",
    "        files_changed = commit.files\n",
    "        changed_files = [file.filename for file in files_changed]\n",
    "        # Get the author information to make sure the author and contributor is one person.\n",
    "        author_name = commit.commit.author.name\n",
    "        author_email = commit.commit.author.email\n",
    "        # Check if the commit passed all tests\n",
    "        check_runs = commit.get_check_runs()\n",
    "        passed_all_test = all(check_run.conclusion == 'success' for check_run in check_runs)\n",
    "\n",
    "        writer.writerow([commit_id, commit_message, contributor, commit_date, changed_files, author_name, author_email, passed_all_test])\n",
    "\n",
    "print(\"All files loaded successfully\")"
   ],
   "id": "a44cdbc3ccfbcd2c",
   "outputs": [],
   "execution_count": null
  }
 ],
 "metadata": {
  "kernelspec": {
   "display_name": "Python 3",
   "language": "python",
   "name": "python3"
  },
  "language_info": {
   "codemirror_mode": {
    "name": "ipython",
    "version": 2
   },
   "file_extension": ".py",
   "mimetype": "text/x-python",
   "name": "python",
   "nbconvert_exporter": "python",
   "pygments_lexer": "ipython2",
   "version": "2.7.6"
  }
 },
 "nbformat": 4,
 "nbformat_minor": 5
}
