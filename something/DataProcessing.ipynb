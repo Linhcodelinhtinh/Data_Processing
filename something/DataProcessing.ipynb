{
 "cells": [
  {
   "metadata": {},
   "cell_type": "markdown",
   "source": "Convert the csv file into data frame, remove unused information and fill the missing data",
   "id": "27fae5afaf7ea94f"
  },
  {
   "cell_type": "code",
   "id": "initial_id",
   "metadata": {
    "collapsed": true,
    "ExecuteTime": {
     "end_time": "2024-06-14T01:59:27.172224Z",
     "start_time": "2024-06-14T01:59:25.860042Z"
    }
   },
   "source": [
    "import pandas as pd\n",
    "import matplotlib.pyplot as plt\n",
    "\n",
    "df = pd.read_csv('raw_data.csv')\n",
    "df.drop(columns=['Commit ID'], inplace=True)\n",
    "df.drop(columns=['Author Email'], inplace=True)\n",
    "for col in df.columns:\n",
    "    for pattern in df[col]:\n",
    "        if pattern == \"N/A\" or pattern == '':\n",
    "            pattern = \"unknown\"\n",
    "(df.head())"
   ],
   "outputs": [
    {
     "data": {
      "text/plain": [
       "                                      Commit message   Contributor  \\\n",
       "0                 [R] rename Quality -> Gain (#9938)  david-cortes   \n",
       "1  [R] Clearer function signatures for S3 methods...  david-cortes   \n",
       "2               [R] Enable 'dot' dump format (#9930)  david-cortes   \n",
       "3                 [CI] Update machine images (#9932)         hcho3   \n",
       "4  Fix feature names with special characters. (#9...    trivialfis   \n",
       "\n",
       "  Commit date                                      Files Changed  \\\n",
       "0  2023-12-31  ['R-package/R/xgb.model.dt.tree.R', 'R-package...   \n",
       "1  2023-12-31  ['R-package/R/xgb.DMatrix.R', 'R-package/man/g...   \n",
       "2  2023-12-30  ['R-package/R/xgb.dump.R', 'R-package/R/xgb.pl...   \n",
       "3  2023-12-29  ['cmake/modules/FindLibR.cmake', 'doc/contrib/...   \n",
       "4  2023-12-28  ['src/common/common.h', 'src/tree/tree_model.c...   \n",
       "\n",
       "              Author  Passed all test  \n",
       "0       david-cortes             True  \n",
       "1       david-cortes             True  \n",
       "2       david-cortes             True  \n",
       "3  Philip Hyunsu Cho             True  \n",
       "4       Jiaming Yuan             True  "
      ],
      "text/html": [
       "<div>\n",
       "<style scoped>\n",
       "    .dataframe tbody tr th:only-of-type {\n",
       "        vertical-align: middle;\n",
       "    }\n",
       "\n",
       "    .dataframe tbody tr th {\n",
       "        vertical-align: top;\n",
       "    }\n",
       "\n",
       "    .dataframe thead th {\n",
       "        text-align: right;\n",
       "    }\n",
       "</style>\n",
       "<table border=\"1\" class=\"dataframe\">\n",
       "  <thead>\n",
       "    <tr style=\"text-align: right;\">\n",
       "      <th></th>\n",
       "      <th>Commit message</th>\n",
       "      <th>Contributor</th>\n",
       "      <th>Commit date</th>\n",
       "      <th>Files Changed</th>\n",
       "      <th>Author</th>\n",
       "      <th>Passed all test</th>\n",
       "    </tr>\n",
       "  </thead>\n",
       "  <tbody>\n",
       "    <tr>\n",
       "      <th>0</th>\n",
       "      <td>[R] rename Quality -&gt; Gain (#9938)</td>\n",
       "      <td>david-cortes</td>\n",
       "      <td>2023-12-31</td>\n",
       "      <td>['R-package/R/xgb.model.dt.tree.R', 'R-package...</td>\n",
       "      <td>david-cortes</td>\n",
       "      <td>True</td>\n",
       "    </tr>\n",
       "    <tr>\n",
       "      <th>1</th>\n",
       "      <td>[R] Clearer function signatures for S3 methods...</td>\n",
       "      <td>david-cortes</td>\n",
       "      <td>2023-12-31</td>\n",
       "      <td>['R-package/R/xgb.DMatrix.R', 'R-package/man/g...</td>\n",
       "      <td>david-cortes</td>\n",
       "      <td>True</td>\n",
       "    </tr>\n",
       "    <tr>\n",
       "      <th>2</th>\n",
       "      <td>[R] Enable 'dot' dump format (#9930)</td>\n",
       "      <td>david-cortes</td>\n",
       "      <td>2023-12-30</td>\n",
       "      <td>['R-package/R/xgb.dump.R', 'R-package/R/xgb.pl...</td>\n",
       "      <td>david-cortes</td>\n",
       "      <td>True</td>\n",
       "    </tr>\n",
       "    <tr>\n",
       "      <th>3</th>\n",
       "      <td>[CI] Update machine images (#9932)</td>\n",
       "      <td>hcho3</td>\n",
       "      <td>2023-12-29</td>\n",
       "      <td>['cmake/modules/FindLibR.cmake', 'doc/contrib/...</td>\n",
       "      <td>Philip Hyunsu Cho</td>\n",
       "      <td>True</td>\n",
       "    </tr>\n",
       "    <tr>\n",
       "      <th>4</th>\n",
       "      <td>Fix feature names with special characters. (#9...</td>\n",
       "      <td>trivialfis</td>\n",
       "      <td>2023-12-28</td>\n",
       "      <td>['src/common/common.h', 'src/tree/tree_model.c...</td>\n",
       "      <td>Jiaming Yuan</td>\n",
       "      <td>True</td>\n",
       "    </tr>\n",
       "  </tbody>\n",
       "</table>\n",
       "</div>"
      ]
     },
     "execution_count": 1,
     "metadata": {},
     "output_type": "execute_result"
    }
   ],
   "execution_count": 1
  },
  {
   "metadata": {},
   "cell_type": "markdown",
   "source": "Some of most used keyword",
   "id": "4d2da35d989bc136"
  },
  {
   "metadata": {
    "ExecuteTime": {
     "end_time": "2024-06-14T01:59:27.320521Z",
     "start_time": "2024-06-14T01:59:27.173232Z"
    }
   },
   "cell_type": "code",
   "source": [
    "# Create a Series to store the number of keyword.\n",
    "keyword_count = pd.Series([0, 0, 0, 0, 0, 0, 0], dtype=int)\n",
    "# Divide main keywords into different groups and count them\n",
    "keyword_count.index = ['update', 'improve', 'remove', 'replace', 'fix', 'define', 'add']\n",
    "for c in df['Commit message']:\n",
    "    if ('update' in c) or ('Update' in c):\n",
    "        keyword_count['update']+=1\n",
    "    if (('improve' in c) or ('Improve' in c) or ('optimize' in c) or\n",
    "        ('Optimize' in c) or ('upgrade' in c) or ('Upgrade' in c)):\n",
    "        keyword_count['improve']+=1\n",
    "    if ('disable' in c) or ('Disable' in c) or ('remove' in c) or ('Remove' in c):\n",
    "        keyword_count['remove']+=1\n",
    "    if ('replace' in c) or ('Replace' in c):\n",
    "        keyword_count['replace']+=1\n",
    "    if ('fix' in c) or ('Fix' in c):\n",
    "        keyword_count['fix']+=1\n",
    "    if ('define' in c) or ('Define' in c):\n",
    "        keyword_count['define']+=1\n",
    "    if (('add' in c) or ('Add' in c) or ('implement' in c) or ('Implement' in c)\n",
    "        or ('support' in c) or ('Support' in c)):\n",
    "        keyword_count['add']+=1\n",
    "# for key in keyword_count:\n",
    "#     print(key)\n",
    "# Visualize the number of each keyword\n",
    "plt.bar(keyword_count.index, keyword_count, tick_label=keyword_count.index, width=0.6, color=['cyan'])\n",
    "plt.xlabel('Keywords')\n",
    "plt.ylabel('Number of Keywords')\n",
    "plt.title(\"Appearance's Frequency Of Some Most Used Keyword in Commit Message\")\n",
    "plt.show()"
   ],
   "id": "4af337a88f191181",
   "outputs": [
    {
     "data": {
      "text/plain": [
       "<Figure size 640x480 with 1 Axes>"
      ],
      "image/png": "[encoded data removed]"
     },
     "metadata": {},
     "output_type": "display_data"
    }
   ],
   "execution_count": 2
  },
  {
   "metadata": {},
   "cell_type": "markdown",
   "source": "As we can see, the number of commits written to add new feature and characteristic might be the most popular one",
   "id": "531ff4c2955a90a9"
  },
  {
   "metadata": {},
   "cell_type": "markdown",
   "source": "Create new DataFrame to store commit through month and the author who made commit.",
   "id": "5d0e6b7947e387d3"
  },
  {
   "metadata": {
    "ExecuteTime": {
     "end_time": "2024-06-14T08:13:28.026738Z",
     "start_time": "2024-06-14T08:13:28.004786Z"
    }
   },
   "cell_type": "code",
   "source": [
    "# Too many things to make comments\n",
    "df['Commit date'] = pd.to_datetime(df['Commit date'])\n",
    "commit_month = df['Commit date'].dt.month\n",
    "count = []\n",
    "tmp = 1\n",
    "for i in range(1, commit_month.size):\n",
    "    if commit_month[i] == commit_month[i-1]:\n",
    "        tmp+=1\n",
    "    else:\n",
    "        count.append(tmp)\n",
    "        tmp=1\n",
    "count.append(tmp)\n",
    "commits_by_month = pd.DataFrame(count, columns=['Commits'])\n",
    "commits_by_month = commits_by_month[::-1]\n",
    "commit_through_month = (commit_month.to_frame(name=\"commit_month\"))\n",
    "commit_through_month[\"Author\"] = df['Author']\n",
    "commit_through_month = commit_through_month[::-1]\n",
    "commit_through_month.to_csv('commit_through_month.csv', index=False)\n",
    "# for i in range(commit_through_month.size() - 1):\n",
    "#     while commit_through_month['commit_month'][i] == commit_through_month[i+1]:\n",
    "#         commit_through_month['Author'].value_counts()\n",
    "commit_through_month"
   ],
   "id": "cc0ef24d64d9d5c6",
   "outputs": [
    {
     "data": {
      "text/plain": [
       "     commit_month             Author\n",
       "573             1         James Lamb\n",
       "572             1    dependabot[bot]\n",
       "571             1       Jiaming Yuan\n",
       "570             1       Jiaming Yuan\n",
       "569             1         James Lamb\n",
       "..            ...                ...\n",
       "4              12       Jiaming Yuan\n",
       "3              12  Philip Hyunsu Cho\n",
       "2              12       david-cortes\n",
       "1              12       david-cortes\n",
       "0              12       david-cortes\n",
       "\n",
       "[574 rows x 2 columns]"
      ],
      "text/html": [
       "<div>\n",
       "<style scoped>\n",
       "    .dataframe tbody tr th:only-of-type {\n",
       "        vertical-align: middle;\n",
       "    }\n",
       "\n",
       "    .dataframe tbody tr th {\n",
       "        vertical-align: top;\n",
       "    }\n",
       "\n",
       "    .dataframe thead th {\n",
       "        text-align: right;\n",
       "    }\n",
       "</style>\n",
       "<table border=\"1\" class=\"dataframe\">\n",
       "  <thead>\n",
       "    <tr style=\"text-align: right;\">\n",
       "      <th></th>\n",
       "      <th>commit_month</th>\n",
       "      <th>Author</th>\n",
       "    </tr>\n",
       "  </thead>\n",
       "  <tbody>\n",
       "    <tr>\n",
       "      <th>573</th>\n",
       "      <td>1</td>\n",
       "      <td>James Lamb</td>\n",
       "    </tr>\n",
       "    <tr>\n",
       "      <th>572</th>\n",
       "      <td>1</td>\n",
       "      <td>dependabot[bot]</td>\n",
       "    </tr>\n",
       "    <tr>\n",
       "      <th>571</th>\n",
       "      <td>1</td>\n",
       "      <td>Jiaming Yuan</td>\n",
       "    </tr>\n",
       "    <tr>\n",
       "      <th>570</th>\n",
       "      <td>1</td>\n",
       "      <td>Jiaming Yuan</td>\n",
       "    </tr>\n",
       "    <tr>\n",
       "      <th>569</th>\n",
       "      <td>1</td>\n",
       "      <td>James Lamb</td>\n",
       "    </tr>\n",
       "    <tr>\n",
       "      <th>...</th>\n",
       "      <td>...</td>\n",
       "      <td>...</td>\n",
       "    </tr>\n",
       "    <tr>\n",
       "      <th>4</th>\n",
       "      <td>12</td>\n",
       "      <td>Jiaming Yuan</td>\n",
       "    </tr>\n",
       "    <tr>\n",
       "      <th>3</th>\n",
       "      <td>12</td>\n",
       "      <td>Philip Hyunsu Cho</td>\n",
       "    </tr>\n",
       "    <tr>\n",
       "      <th>2</th>\n",
       "      <td>12</td>\n",
       "      <td>david-cortes</td>\n",
       "    </tr>\n",
       "    <tr>\n",
       "      <th>1</th>\n",
       "      <td>12</td>\n",
       "      <td>david-cortes</td>\n",
       "    </tr>\n",
       "    <tr>\n",
       "      <th>0</th>\n",
       "      <td>12</td>\n",
       "      <td>david-cortes</td>\n",
       "    </tr>\n",
       "  </tbody>\n",
       "</table>\n",
       "<p>574 rows × 2 columns</p>\n",
       "</div>"
      ]
     },
     "execution_count": 103,
     "metadata": {},
     "output_type": "execute_result"
    }
   ],
   "execution_count": 103
  },
  {
   "metadata": {},
   "cell_type": "markdown",
   "source": "Number of commits through months\n",
   "id": "7bf9a06d248da67e"
  },
  {
   "metadata": {
    "ExecuteTime": {
     "end_time": "2024-06-14T08:32:07.695272Z",
     "start_time": "2024-06-14T08:32:07.558059Z"
    }
   },
   "cell_type": "code",
   "source": [
    "avg_commits_by_month = pd.Series(count)\n",
    "avg_commits_by_month.index = commits_by_month.index\n",
    "avg = int(commits_by_month['Commits'].mean())\n",
    "for i in avg_commits_by_month.index:\n",
    "    avg_commits_by_month.loc[i] = avg\n",
    "commits_by_month.index = ['Jan', 'Feb', 'March', 'April', 'May', 'June', 'July', 'Aug', 'Sep', 'Oct', 'Nov', 'Dec']\n",
    "commits_by_month['Commits'].plot.bar(figsize = (12,6) ,color=['green'])\n",
    "avg_commits_by_month.plot(figsize=(12,6), color='red')\n",
    "plt.text(11, 47, \" avg\", size=10, style='italic', color='red')\n",
    "plt.xlabel('Months')\n",
    "plt.ylabel('Number of Commits')\n",
    "plt.title(\"The Number Commits throughout 2023\")\n",
    "plt.show()"
   ],
   "id": "e928d9d6cf938ff3",
   "outputs": [
    {
     "data": {
      "text/plain": [
       "<Figure size 1200x600 with 1 Axes>"
      ],
      "image/png": "[encoded data removed]"
     },
     "metadata": {},
     "output_type": "display_data"
    }
   ],
   "execution_count": 111
  },
  {
   "metadata": {},
   "cell_type": "markdown",
   "source": "For most of the time, the number of commits is under the average commits of all years. The month with the most commits is March and on the other hand, November have the least commits.",
   "id": "22b1f69df8c3c8a0"
  },
  {
   "metadata": {},
   "cell_type": "markdown",
   "source": "Create frame to store the number of commit that each author made",
   "id": "85d3610d2115abf3"
  },
  {
   "metadata": {
    "ExecuteTime": {
     "end_time": "2024-06-14T09:24:13.896611Z",
     "start_time": "2024-06-14T09:24:13.502437Z"
    }
   },
   "cell_type": "code",
   "source": [
    "author = pd.DataFrame(df['Author'].value_counts())\n",
    "author.name = '7 Author that made most of the commits in 2023'\n",
    "print(author.name)\n",
    "(author.head(7))\n",
    "# author.index = range(1,len(author)+1)\n",
    "author_by_month = pd.DataFrame(commit_through_month.value_counts())\n",
    "author_by_month.sort_values(by=['count'], ascending=True, inplace=True)\n",
    "author_by_month.sort_index(inplace=True)\n",
    "\n",
    "# new.sort_values(by=['commit_month'], ascending=True)\n",
    "commits_by_month = commits_by_month\n",
    "commits_by_month['Jiaming Yuan'] = [0 for i in range(12)]\n",
    "commits_by_month['Rong Ou'] = [0 for i in range(12)]\n",
    "commits_by_month['dependabot[bot]'] = [0 for i in range(12)]\n",
    "commits_by_month['Philip Hyunsu Cho'] = [0 for i in range(12)]\n",
    "commits_by_month['James Lamb'] = [0 for i in range(12)]\n",
    "commits_by_month['david-cortes'] = [0 for i in range(12)]\n",
    "i, j, k, m, n, p = 1, 1, 1, 1, 1, 1\n",
    "\n",
    "for auth in author_by_month.index:\n",
    "    if (i, 'Jiaming Yuan') == auth and i <= 12:\n",
    "        commits_by_month.loc[commits_by_month.index[i-1], 'Jiaming Yuan'] += int(author_by_month['count'].loc[auth])\n",
    "        i += 1\n",
    "    if (j, 'Rong Ou') == auth and j <= 12:\n",
    "        commits_by_month.loc[commits_by_month.index[j-1], 'Rong Ou'] += int(author_by_month['count'].loc[auth])\n",
    "        j += 1\n",
    "    elif (j, 'Rong Ou') not in author_by_month.index:\n",
    "        j += 1\n",
    "    if (k, 'dependabot[bot]') == auth and k <= 12:\n",
    "        commits_by_month.loc[commits_by_month.index[k-1], 'dependabot[bot]'] += int(author_by_month['count'].loc[auth])\n",
    "        k += 1\n",
    "    elif (k, 'dependabot[bot]') not in author_by_month.index:\n",
    "        k += 1\n",
    "    if (m, 'Philip Hyunsu Cho') == auth and m <= 12:\n",
    "        commits_by_month.loc[commits_by_month.index[m-1], 'Philip Hyunsu Cho'] += int(author_by_month['count'].loc[auth])\n",
    "        m += 1\n",
    "    elif (m, 'Philip Hyunsu Cho') not in author_by_month.index:\n",
    "        m += 1\n",
    "    if (n, 'James Lamb') == auth and n <= 12:\n",
    "        commits_by_month.loc[commits_by_month.index[n-1], 'James Lamb'] += int(author_by_month['count'].loc[auth])\n",
    "        n += 1\n",
    "    elif (n, 'James Lamb') not in author_by_month.index:\n",
    "        n += 1\n",
    "    if (p, 'david-cortes') == auth and p <= 12:\n",
    "        commits_by_month.loc[commits_by_month.index[p-1], 'david-cortes'] += int(author_by_month['count'].loc[auth])\n",
    "        p +=1\n",
    "    elif (p, 'david-cortes') not in author_by_month.index:\n",
    "        p += 1\n",
    "commits_by_month.drop(['Commits'], axis=1).plot.bar(figsize=(12,6), color=['red','green', 'blue', 'purple', 'orange', 'pink'])\n",
    "author_by_month"
   ],
   "id": "fa47c6ec2be02e3d",
   "outputs": [
    {
     "name": "stdout",
     "output_type": "stream",
     "text": [
      "7 Author that made most of the commits in 2023\n"
     ]
    },
    {
     "data": {
      "text/plain": [
       "                                   count\n",
       "commit_month Author                     \n",
       "1            Bobby Wang                3\n",
       "             Emre Batuhan Baloğlu      1\n",
       "             Hamel Husain              1\n",
       "             James Lamb               10\n",
       "             Jiaming Yuan             30\n",
       "...                                  ...\n",
       "12           Jiaming Yuan             15\n",
       "             Michael Mayer             2\n",
       "             Philip Hyunsu Cho         2\n",
       "             david-cortes             19\n",
       "             github-actions[bot]       1\n",
       "\n",
       "[114 rows x 1 columns]"
      ],
      "text/html": [
       "<div>\n",
       "<style scoped>\n",
       "    .dataframe tbody tr th:only-of-type {\n",
       "        vertical-align: middle;\n",
       "    }\n",
       "\n",
       "    .dataframe tbody tr th {\n",
       "        vertical-align: top;\n",
       "    }\n",
       "\n",
       "    .dataframe thead th {\n",
       "        text-align: right;\n",
       "    }\n",
       "</style>\n",
       "<table border=\"1\" class=\"dataframe\">\n",
       "  <thead>\n",
       "    <tr style=\"text-align: right;\">\n",
       "      <th></th>\n",
       "      <th></th>\n",
       "      <th>count</th>\n",
       "    </tr>\n",
       "    <tr>\n",
       "      <th>commit_month</th>\n",
       "      <th>Author</th>\n",
       "      <th></th>\n",
       "    </tr>\n",
       "  </thead>\n",
       "  <tbody>\n",
       "    <tr>\n",
       "      <th rowspan=\"5\" valign=\"top\">1</th>\n",
       "      <th>Bobby Wang</th>\n",
       "      <td>3</td>\n",
       "    </tr>\n",
       "    <tr>\n",
       "      <th>Emre Batuhan Baloğlu</th>\n",
       "      <td>1</td>\n",
       "    </tr>\n",
       "    <tr>\n",
       "      <th>Hamel Husain</th>\n",
       "      <td>1</td>\n",
       "    </tr>\n",
       "    <tr>\n",
       "      <th>James Lamb</th>\n",
       "      <td>10</td>\n",
       "    </tr>\n",
       "    <tr>\n",
       "      <th>Jiaming Yuan</th>\n",
       "      <td>30</td>\n",
       "    </tr>\n",
       "    <tr>\n",
       "      <th>...</th>\n",
       "      <th>...</th>\n",
       "      <td>...</td>\n",
       "    </tr>\n",
       "    <tr>\n",
       "      <th rowspan=\"5\" valign=\"top\">12</th>\n",
       "      <th>Jiaming Yuan</th>\n",
       "      <td>15</td>\n",
       "    </tr>\n",
       "    <tr>\n",
       "      <th>Michael Mayer</th>\n",
       "      <td>2</td>\n",
       "    </tr>\n",
       "    <tr>\n",
       "      <th>Philip Hyunsu Cho</th>\n",
       "      <td>2</td>\n",
       "    </tr>\n",
       "    <tr>\n",
       "      <th>david-cortes</th>\n",
       "      <td>19</td>\n",
       "    </tr>\n",
       "    <tr>\n",
       "      <th>github-actions[bot]</th>\n",
       "      <td>1</td>\n",
       "    </tr>\n",
       "  </tbody>\n",
       "</table>\n",
       "<p>114 rows × 1 columns</p>\n",
       "</div>"
      ]
     },
     "execution_count": 144,
     "metadata": {},
     "output_type": "execute_result"
    },
    {
     "data": {
      "text/plain": [
       "<Figure size 1200x600 with 1 Axes>"
      ],
      "image/png": "[encoded data removed]"
     },
     "metadata": {},
     "output_type": "display_data"
    }
   ],
   "execution_count": 144
  },
  {
   "metadata": {
    "ExecuteTime": {
     "end_time": "2024-06-14T03:23:46.524461Z",
     "start_time": "2024-06-14T03:23:46.521309Z"
    }
   },
   "cell_type": "code",
   "source": "",
   "id": "53fc4bf3696ad41",
   "outputs": [],
   "execution_count": 39
  },
  {
   "metadata": {},
   "cell_type": "code",
   "outputs": [],
   "execution_count": null,
   "source": "",
   "id": "c8be28bf6db18ffd"
  }
 ],
 "metadata": {
  "kernelspec": {
   "display_name": "Python 3",
   "language": "python",
   "name": "python3"
  },
  "language_info": {
   "codemirror_mode": {
    "name": "ipython",
    "version": 2
   },
   "file_extension": ".py",
   "mimetype": "text/x-python",
   "name": "python",
   "nbconvert_exporter": "python",
   "pygments_lexer": "ipython2",
   "version": "2.7.6"
  }
 },
 "nbformat": 4,
 "nbformat_minor": 5
}
