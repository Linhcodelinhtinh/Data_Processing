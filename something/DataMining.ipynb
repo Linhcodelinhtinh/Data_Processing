{
 "cells": [
  {
   "metadata": {},
   "cell_type": "markdown",
   "source": "Import needed library",
   "id": "2fe8f2ab05fbbda"
  },
  {
   "metadata": {
    "ExecuteTime": {
     "end_time": "2024-06-14T13:12:58.390958Z",
     "start_time": "2024-06-14T13:12:58.025362Z"
    }
   },
   "cell_type": "code",
   "source": [
    "from github import Github\n",
    "import csv\n",
    "import datetime"
   ],
   "id": "7b632f3e7028770d",
   "outputs": [],
   "execution_count": 1
  },
  {
   "metadata": {},
   "cell_type": "markdown",
   "source": "Initialize things",
   "id": "c5a68e7aa126fe2f"
  },
  {
   "metadata": {
    "ExecuteTime": {
     "end_time": "2024-06-14T15:44:29.815519Z",
     "start_time": "2024-06-14T15:44:28.792001Z"
    }
   },
   "cell_type": "code",
   "source": [
    "# Get access to GitHub\n",
    "g = Github(\"'''Personal Access Token'''\")\n",
    "\n",
    "# Get the repository\n",
    "repo = g.get_repo(\"dmlc/xgboost\")\n",
    "\n",
    "# Determine the destination file \n",
    "csv_file = 'raw_data.csv'\n",
    "\n",
    "# Detect the time range\n",
    "since_date = datetime.datetime(2023, 1, 1)\n",
    "until_date = datetime.datetime(2024, 1, 1) "
   ],
   "id": "610ee7e8e9e73479",
   "outputs": [
    {
     "ename": "BadCredentialsException",
     "evalue": "401 {\"message\": \"Bad credentials\", \"documentation_url\": \"https://docs.github.com/rest\", \"status\": \"401\"}",
     "output_type": "error",
     "traceback": [
      "\u001B[1;31m---------------------------------------------------------------------------\u001B[0m",
      "\u001B[1;31mBadCredentialsException\u001B[0m                   Traceback (most recent call last)",
      "Cell \u001B[1;32mIn[4], line 5\u001B[0m\n\u001B[0;32m      2\u001B[0m g \u001B[38;5;241m=\u001B[39m Github(\u001B[38;5;124m\"\u001B[39m\u001B[38;5;124m'\u001B[39m\u001B[38;5;124m'\u001B[39m\u001B[38;5;124m'\u001B[39m\u001B[38;5;124mPersonal Access Token\u001B[39m\u001B[38;5;124m'\u001B[39m\u001B[38;5;124m'\u001B[39m\u001B[38;5;124m'\u001B[39m\u001B[38;5;124m\"\u001B[39m)\n\u001B[0;32m      4\u001B[0m \u001B[38;5;66;03m# Get the repository\u001B[39;00m\n\u001B[1;32m----> 5\u001B[0m repo \u001B[38;5;241m=\u001B[39m \u001B[43mg\u001B[49m\u001B[38;5;241;43m.\u001B[39;49m\u001B[43mget_repo\u001B[49m\u001B[43m(\u001B[49m\u001B[38;5;124;43m\"\u001B[39;49m\u001B[38;5;124;43mdmlc/xgboost\u001B[39;49m\u001B[38;5;124;43m\"\u001B[39;49m\u001B[43m)\u001B[49m\n\u001B[0;32m      7\u001B[0m \u001B[38;5;66;03m# Determine the destination file \u001B[39;00m\n\u001B[0;32m      8\u001B[0m csv_file \u001B[38;5;241m=\u001B[39m \u001B[38;5;124m'\u001B[39m\u001B[38;5;124mraw_data.csv\u001B[39m\u001B[38;5;124m'\u001B[39m\n",
      "File \u001B[1;32m~\\PycharmProjects\\pythonProject\\venv\\Lib\\site-packages\\github\\MainClass.py:433\u001B[0m, in \u001B[0;36mGithub.get_repo\u001B[1;34m(self, full_name_or_id, lazy)\u001B[0m\n\u001B[0;32m    431\u001B[0m \u001B[38;5;28;01mif\u001B[39;00m lazy:\n\u001B[0;32m    432\u001B[0m     \u001B[38;5;28;01mreturn\u001B[39;00m github\u001B[38;5;241m.\u001B[39mRepository\u001B[38;5;241m.\u001B[39mRepository(\u001B[38;5;28mself\u001B[39m\u001B[38;5;241m.\u001B[39m__requester, {}, {\u001B[38;5;124m\"\u001B[39m\u001B[38;5;124murl\u001B[39m\u001B[38;5;124m\"\u001B[39m: url}, completed\u001B[38;5;241m=\u001B[39m\u001B[38;5;28;01mFalse\u001B[39;00m)\n\u001B[1;32m--> 433\u001B[0m headers, data \u001B[38;5;241m=\u001B[39m \u001B[38;5;28;43mself\u001B[39;49m\u001B[38;5;241;43m.\u001B[39;49m\u001B[43m__requester\u001B[49m\u001B[38;5;241;43m.\u001B[39;49m\u001B[43mrequestJsonAndCheck\u001B[49m\u001B[43m(\u001B[49m\u001B[38;5;124;43m\"\u001B[39;49m\u001B[38;5;124;43mGET\u001B[39;49m\u001B[38;5;124;43m\"\u001B[39;49m\u001B[43m,\u001B[49m\u001B[43m \u001B[49m\u001B[43murl\u001B[49m\u001B[43m)\u001B[49m\n\u001B[0;32m    434\u001B[0m \u001B[38;5;28;01mreturn\u001B[39;00m github\u001B[38;5;241m.\u001B[39mRepository\u001B[38;5;241m.\u001B[39mRepository(\u001B[38;5;28mself\u001B[39m\u001B[38;5;241m.\u001B[39m__requester, headers, data, completed\u001B[38;5;241m=\u001B[39m\u001B[38;5;28;01mTrue\u001B[39;00m)\n",
      "File \u001B[1;32m~\\PycharmProjects\\pythonProject\\venv\\Lib\\site-packages\\github\\Requester.py:548\u001B[0m, in \u001B[0;36mRequester.requestJsonAndCheck\u001B[1;34m(self, verb, url, parameters, headers, input)\u001B[0m\n\u001B[0;32m    540\u001B[0m \u001B[38;5;28;01mdef\u001B[39;00m \u001B[38;5;21mrequestJsonAndCheck\u001B[39m(\n\u001B[0;32m    541\u001B[0m     \u001B[38;5;28mself\u001B[39m,\n\u001B[0;32m    542\u001B[0m     verb: \u001B[38;5;28mstr\u001B[39m,\n\u001B[1;32m   (...)\u001B[0m\n\u001B[0;32m    546\u001B[0m     \u001B[38;5;28minput\u001B[39m: Optional[Any] \u001B[38;5;241m=\u001B[39m \u001B[38;5;28;01mNone\u001B[39;00m,\n\u001B[0;32m    547\u001B[0m ) \u001B[38;5;241m-\u001B[39m\u001B[38;5;241m>\u001B[39m Tuple[Dict[\u001B[38;5;28mstr\u001B[39m, Any], Any]:\n\u001B[1;32m--> 548\u001B[0m     \u001B[38;5;28;01mreturn\u001B[39;00m \u001B[38;5;28;43mself\u001B[39;49m\u001B[38;5;241;43m.\u001B[39;49m\u001B[43m__check\u001B[49m\u001B[43m(\u001B[49m\u001B[38;5;241;43m*\u001B[39;49m\u001B[38;5;28;43mself\u001B[39;49m\u001B[38;5;241;43m.\u001B[39;49m\u001B[43mrequestJson\u001B[49m\u001B[43m(\u001B[49m\u001B[43mverb\u001B[49m\u001B[43m,\u001B[49m\u001B[43m \u001B[49m\u001B[43murl\u001B[49m\u001B[43m,\u001B[49m\u001B[43m \u001B[49m\u001B[43mparameters\u001B[49m\u001B[43m,\u001B[49m\u001B[43m \u001B[49m\u001B[43mheaders\u001B[49m\u001B[43m,\u001B[49m\u001B[43m \u001B[49m\u001B[38;5;28;43minput\u001B[39;49m\u001B[43m,\u001B[49m\u001B[43m \u001B[49m\u001B[38;5;28;43mself\u001B[39;49m\u001B[38;5;241;43m.\u001B[39;49m\u001B[43m__customConnection\u001B[49m\u001B[43m(\u001B[49m\u001B[43murl\u001B[49m\u001B[43m)\u001B[49m\u001B[43m)\u001B[49m\u001B[43m)\u001B[49m\n",
      "File \u001B[1;32m~\\PycharmProjects\\pythonProject\\venv\\Lib\\site-packages\\github\\Requester.py:609\u001B[0m, in \u001B[0;36mRequester.__check\u001B[1;34m(self, status, responseHeaders, output)\u001B[0m\n\u001B[0;32m    607\u001B[0m data \u001B[38;5;241m=\u001B[39m \u001B[38;5;28mself\u001B[39m\u001B[38;5;241m.\u001B[39m__structuredFromJson(output)\n\u001B[0;32m    608\u001B[0m \u001B[38;5;28;01mif\u001B[39;00m status \u001B[38;5;241m>\u001B[39m\u001B[38;5;241m=\u001B[39m \u001B[38;5;241m400\u001B[39m:\n\u001B[1;32m--> 609\u001B[0m     \u001B[38;5;28;01mraise\u001B[39;00m \u001B[38;5;28mself\u001B[39m\u001B[38;5;241m.\u001B[39mcreateException(status, responseHeaders, data)\n\u001B[0;32m    610\u001B[0m \u001B[38;5;28;01mreturn\u001B[39;00m responseHeaders, data\n",
      "\u001B[1;31mBadCredentialsException\u001B[0m: 401 {\"message\": \"Bad credentials\", \"documentation_url\": \"https://docs.github.com/rest\", \"status\": \"401\"}"
     ]
    }
   ],
   "execution_count": 4
  },
  {
   "metadata": {},
   "cell_type": "markdown",
   "source": "Get data",
   "id": "bfa1feabf2bea444"
  },
  {
   "metadata": {
    "ExecuteTime": {
     "end_time": "2024-06-14T13:32:13.815128Z",
     "start_time": "2024-06-14T13:12:59.269974Z"
    }
   },
   "cell_type": "code",
   "source": [
    "# Open the file in write mode\n",
    "with open(csv_file, mode='w', newline='', encoding='utf-8-sig') as file:\n",
    "    writer = csv.writer(file)\n",
    "    writer.writerow(['Commit ID', 'Commit message', 'Contributor', 'Commit date', 'Files Changed', 'Author', 'Author Email', 'Passed all test'])\n",
    "    # Get all commits in time range\n",
    "    commits = repo.get_commits(since=since_date, until=until_date)\n",
    "    # and then fill the data in proper position.\n",
    "    for commit in commits:\n",
    "        commit_id = commit.sha\n",
    "        commit_message = commit.commit.message\n",
    "        contributor = commit.author.login if commit.author else 'N/A'\n",
    "        commit_date = commit.commit.author.date.strftime(\"%Y-%m-%d\")\n",
    "        files_changed = commit.files\n",
    "        changed_files = [file.filename for file in files_changed]\n",
    "        # Get the author information to make sure the author and contributor is one person.\n",
    "        author_name = commit.commit.author.name\n",
    "        author_email = commit.commit.author.email\n",
    "        # Check if the commit passed all tests\n",
    "        check_runs = commit.get_check_runs()\n",
    "        passed_all_test = all(check_run.conclusion == 'success' for check_run in check_runs)\n",
    "\n",
    "        writer.writerow([commit_id, commit_message, contributor, commit_date, changed_files, author_name, author_email, passed_all_test])\n",
    "\n",
    "print(\"All files loaded successfully\")"
   ],
   "id": "a44cdbc3ccfbcd2c",
   "outputs": [
    {
     "name": "stdout",
     "output_type": "stream",
     "text": [
      "All files loaded successfully\n"
     ]
    }
   ],
   "execution_count": 3
  }
 ],
 "metadata": {
  "kernelspec": {
   "display_name": "Python 3",
   "language": "python",
   "name": "python3"
  },
  "language_info": {
   "codemirror_mode": {
    "name": "ipython",
    "version": 2
   },
   "file_extension": ".py",
   "mimetype": "text/x-python",
   "name": "python",
   "nbconvert_exporter": "python",
   "pygments_lexer": "ipython2",
   "version": "2.7.6"
  }
 },
 "nbformat": 4,
 "nbformat_minor": 5
}
